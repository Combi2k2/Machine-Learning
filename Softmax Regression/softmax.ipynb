{
 "cells": [
  {
   "cell_type": "code",
   "execution_count": 6,
   "id": "comic-thermal",
   "metadata": {},
   "outputs": [],
   "source": [
    "import numpy as np \n",
    "import matplotlib.pyplot as plt\n",
    "from scipy.spatial.distance import cdist\n",
    "\n",
    "from matplotlib.animation import FuncAnimation"
   ]
  },
  {
   "cell_type": "code",
   "execution_count": 7,
   "id": "cordless-placement",
   "metadata": {},
   "outputs": [],
   "source": [
    "def softmax(Z):\n",
    "    e_Z = np.exp(Z)\n",
    "    ans = e_Z / e_Z.sum(axis = 0)\n",
    "\n",
    "    return  ans"
   ]
  },
  {
   "cell_type": "code",
   "execution_count": 31,
   "id": "palestinian-sight",
   "metadata": {},
   "outputs": [],
   "source": [
    "def softmax_stable(Z):\n",
    "    e_Z = np.exp(Z - np.max(Z, axis = 0, keepdims = True))\n",
    "    ans = e_Z / e_Z.sum(axis = 0)\n",
    "\n",
    "    return  ans"
   ]
  },
  {
   "cell_type": "code",
   "execution_count": 13,
   "id": "fallen-yacht",
   "metadata": {},
   "outputs": [
    {
     "name": "stdout",
     "output_type": "stream",
     "text": [
      "[[-0.49523247  2.71558614 -2.17072885  0.00762058 -0.57890844 -0.87145399\n",
      "   0.11935757  1.08254137  0.20903202  0.44487057]\n",
      " [ 0.54160957 -0.2210206  -0.16350322  0.25885501 -1.49654782  0.59263056\n",
      "   0.78116758  0.59914831 -1.37534577 -0.07326528]]\n",
      "[1 2 2 1 1 0 0 1 1 1]\n"
     ]
    }
   ],
   "source": [
    "N = 10   #number of data points\n",
    "d = 2   #data dimension\n",
    "C = 3   #number of classes\n",
    "\n",
    "X = np.random.randn(d, N)\n",
    "y = np.random.randint(0, C, (N,))\n",
    "\n",
    "print(X)\n",
    "print(y)"
   ]
  },
  {
   "cell_type": "code",
   "execution_count": 14,
   "id": "corporate-primary",
   "metadata": {},
   "outputs": [
    {
     "data": {
      "image/png": "[encoded data removed]",
      "text/plain": [
       "<Figure size 432x288 with 1 Axes>"
      ]
     },
     "metadata": {
      "needs_background": "light"
     },
     "output_type": "display_data"
    }
   ],
   "source": [
    "def show(index):\n",
    "    xx = X[0, np.where(y == index)]\n",
    "    yy = X[1, np.where(y == index)]\n",
    "    \n",
    "    if (index == 0):    plt.plot(xx, yy, 'ro')\n",
    "    if (index == 1):    plt.plot(xx, yy, 'bo')\n",
    "    if (index == 2):    plt.plot(xx, yy, 'go')\n",
    "\n",
    "show(0)\n",
    "show(1)\n",
    "show(2)\n",
    "\n",
    "X = np.concatenate((np.ones((1, X.shape[1])), X), axis = 0)"
   ]
  },
  {
   "cell_type": "code",
   "execution_count": 19,
   "id": "sapphire-queue",
   "metadata": {},
   "outputs": [
    {
     "name": "stdout",
     "output_type": "stream",
     "text": [
      "[[0. 0. 0. 0. 0. 1. 1. 0. 0. 0.]\n",
      " [1. 0. 0. 1. 1. 0. 0. 1. 1. 1.]\n",
      " [0. 1. 1. 0. 0. 0. 0. 0. 0. 0.]]\n"
     ]
    }
   ],
   "source": [
    "def label_vector(y, nClass):\n",
    "    N = y.shape[0]\n",
    "    \n",
    "    index = np.zeros((nClass, N))\n",
    "\n",
    "    for i in range(N):\n",
    "        index[y[i]][i] = 1\n",
    "    \n",
    "    return  index\n",
    "\n",
    "Y = label_vector(y, C)\n",
    "print(Y)"
   ]
  },
  {
   "cell_type": "code",
   "execution_count": 22,
   "id": "downtown-swiss",
   "metadata": {},
   "outputs": [],
   "source": [
    "def cost(X, Y, W):\n",
    "    A = softmax(W.T.dot(X))\n",
    "    return  -np.sum(Y * np.log(A))"
   ]
  },
  {
   "cell_type": "code",
   "execution_count": 23,
   "id": "worst-amber",
   "metadata": {},
   "outputs": [],
   "source": [
    "def grad(X, Y, W):\n",
    "    A = softmax(W.T.dot(X))\n",
    "    E = A - Y\n",
    "\n",
    "    return  X.dot(E.T)"
   ]
  },
  {
   "cell_type": "code",
   "execution_count": 29,
   "id": "bright-aspect",
   "metadata": {},
   "outputs": [
    {
     "name": "stdout",
     "output_type": "stream",
     "text": [
      "[[-12.31766923   6.76048757   5.72575103]\n",
      " [ -2.69529011   2.04536907   2.16935941]\n",
      " [ 19.39334001  -9.56533912  -9.45124057]]\n"
     ]
    }
   ],
   "source": [
    "def softmax_Regression(X, y, W_init, eta, tol = 1e-4, maxcount = 10000):\n",
    "    W = [W_init]\n",
    "    nClass = W_init.shape[1]\n",
    "    nPoint = X.shape[1]\n",
    "    nDim   = X.shape[0]\n",
    "    \n",
    "    global Y\n",
    "    \n",
    "    for Iter in range(1, maxcount + 1):\n",
    "        mix_id = np.random.permutation(nPoint)\n",
    "        for i in mix_id:\n",
    "            xi = X[:, i].reshape(nDim  , 1)\n",
    "            yi = Y[:, i].reshape(nClass, 1)\n",
    "            \n",
    "            ai = softmax(np.dot(W[-1].T, xi))\n",
    "            \n",
    "            W_new = W[-1] + eta*xi.dot((yi - ai).T)\n",
    "            # stopping criteria\n",
    "            \n",
    "            if (Iter % 20 == 0):               \n",
    "                if np.linalg.norm(W_new - W[-20]) < tol:\n",
    "                    return W\n",
    "            \n",
    "            W.append(W_new)\n",
    "    \n",
    "    return  W\n",
    "\n",
    "W_init = np.random.randn(d + 1, C)\n",
    "\n",
    "W = softmax_Regression(X, y, W_init, 0.05)[-1]\n",
    "\n",
    "print(W)"
   ]
  },
  {
   "cell_type": "code",
   "execution_count": 36,
   "id": "single-frame",
   "metadata": {},
   "outputs": [
    {
     "name": "stdout",
     "output_type": "stream",
     "text": [
      "[1]\n"
     ]
    }
   ],
   "source": [
    "def pred(W, X):\n",
    "    \"\"\"\n",
    "    predict output of each columns of X\n",
    "    Class of each x_i is determined by location of max probability\n",
    "    Note that class are indexed by [0, 1, 2, ...., C-1]\n",
    "    \"\"\"\n",
    "    X = np.concatenate((np.ones((1, X.shape[1])), X), axis = 0)\n",
    "    A = softmax_stable(W.T.dot(X))\n",
    "    \n",
    "    return  np.argmax(A, axis = 0)\n",
    "\n",
    "print(pred(W, np.array([[0.5, 0]]).T))"
   ]
  },
  {
   "cell_type": "code",
   "execution_count": null,
   "id": "institutional-direction",
   "metadata": {},
   "outputs": [],
   "source": []
  }
 ],
 "metadata": {
  "kernelspec": {
   "display_name": "Python 3",
   "language": "python",
   "name": "python3"
  },
  "language_info": {
   "codemirror_mode": {
    "name": "ipython",
    "version": 3
   },
   "file_extension": ".py",
   "mimetype": "text/x-python",
   "name": "python",
   "nbconvert_exporter": "python",
   "pygments_lexer": "ipython3",
   "version": "3.9.1"
  }
 },
 "nbformat": 4,
 "nbformat_minor": 5
}

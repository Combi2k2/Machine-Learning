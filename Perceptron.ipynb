{
 "cells": [
  {
   "cell_type": "code",
   "execution_count": 1,
   "id": "employed-modeling",
   "metadata": {},
   "outputs": [],
   "source": [
    "import numpy as np\n",
    "import matplotlib.pyplot as plt\n",
    "import math\n",
    "\n",
    "from matplotlib.animation import FuncAnimation"
   ]
  },
  {
   "cell_type": "code",
   "execution_count": 2,
   "id": "attractive-impact",
   "metadata": {},
   "outputs": [],
   "source": [
    "X = np.random.rand(20,2)\n",
    "one  = np.ones((X.shape[0],1))\n",
    "Xbar = np.concatenate((one,X),axis = 1)"
   ]
  },
  {
   "cell_type": "code",
   "execution_count": 3,
   "id": "black-sport",
   "metadata": {},
   "outputs": [],
   "source": [
    "x0, y0 = (X.T)[0][:10], (X.T)[1][:10]   #belong to red class\n",
    "x1, y1 = (X.T)[0][10:], (X.T)[1][10:]   #belong to blue class\n",
    "\n",
    "for i in range(10):\n",
    "    if (y0[i] < x0[i]): x0[i], y0[i] = y0[i], x0[i]\n",
    "    if (y1[i] > x1[i]): x1[i], y1[i] = y1[i], x1[i]\n",
    "        \n",
    "#rearrange the data so that two classes are linear separable"
   ]
  },
  {
   "cell_type": "code",
   "execution_count": 4,
   "id": "automotive-lawrence",
   "metadata": {},
   "outputs": [],
   "source": [
    "w = [1,1,-1] #initialize a random separating hyperplane"
   ]
  },
  {
   "cell_type": "code",
   "execution_count": 5,
   "id": "governmental-medicine",
   "metadata": {},
   "outputs": [],
   "source": [
    "def animate(i):           #Stochastic Gradient Descent\n",
    "    global w\n",
    "\n",
    "    misclassified = []\n",
    "\n",
    "    for i in range(10):\n",
    "        v = x0[i] * w[0] + y0[i] * w[1] + w[2]\n",
    "        if (v < 0):\n",
    "            misclassified.append([ x0[i],  y0[i],  1])\n",
    "    \n",
    "    for i in range(10):\n",
    "        v = x1[i] * w[0] + y1[i] * w[1] + w[2]\n",
    "        if (v >= 0):\n",
    "            misclassified.append([-x1[i], -y1[i], -1])\n",
    "\n",
    "    if (len(misclassified) > 0):\n",
    "        index = np.random.randint(0,len(misclassified))\n",
    "\n",
    "        w[0] = w[0] + misclassified[index][0]\n",
    "        w[1] = w[1] + misclassified[index][1]\n",
    "        w[2] = w[2] + misclassified[index][2]\n",
    "    \n",
    "    wx = np.linspace(-5, 5, 100)\n",
    "    wy = -(w[0] * wx + w[2]) / w[1]\n",
    "\n",
    "    plt.cla()\n",
    "    plt.plot(wx, wy, '-r', label = '{}X + {}Y + {} = 0'.format(w[0], w[1], w[2]))\n",
    "    #plt.xlabel('x1')\n",
    "    #plt.ylabel('x2')\n",
    "    plt.legend(loc = 'upper left')\n",
    "\n",
    "    plt.plot(x0, y0, 'ro')\n",
    "    plt.plot(x1, y1, 'bs')\n",
    "\n",
    "    plt.axis([0, 1, 0 ,1])"
   ]
  },
  {
   "cell_type": "code",
   "execution_count": 6,
   "id": "broadband-defendant",
   "metadata": {},
   "outputs": [
    {
     "data": {
      "text/plain": [
       "<Figure size 432x288 with 0 Axes>"
      ]
     },
     "metadata": {},
     "output_type": "display_data"
    }
   ],
   "source": [
    "ani = FuncAnimation(plt.gcf(),animate, interval = 500)\n",
    "\n",
    "plt.tight_layout()\n",
    "plt.show()"
   ]
  },
  {
   "cell_type": "code",
   "execution_count": null,
   "id": "radical-impression",
   "metadata": {},
   "outputs": [],
   "source": []
  }
 ],
 "metadata": {
  "kernelspec": {
   "display_name": "Python 3",
   "language": "python",
   "name": "python3"
  },
  "language_info": {
   "codemirror_mode": {
    "name": "ipython",
    "version": 3
   },
   "file_extension": ".py",
   "mimetype": "text/x-python",
   "name": "python",
   "nbconvert_exporter": "python",
   "pygments_lexer": "ipython3",
   "version": "3.9.1"
  }
 },
 "nbformat": 4,
 "nbformat_minor": 5
}

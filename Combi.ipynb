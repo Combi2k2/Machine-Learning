{
 "cells": [
  {
   "cell_type": "code",
   "execution_count": 1,
   "id": "coastal-marriage",
   "metadata": {},
   "outputs": [],
   "source": [
    "import numpy as np\n",
    "import matplotlib.pyplot as plt\n",
    "import math\n",
    "import random\n",
    "\n",
    "from matplotlib.animation import FuncAnimation\n",
    "from itertools import count"
   ]
  },
  {
   "cell_type": "code",
   "execution_count": 2,
   "id": "cloudy-hostel",
   "metadata": {},
   "outputs": [],
   "source": [
    "def grad(x):\n",
    "    return  2 * x + 5 * np.cos(x)\n",
    "\n",
    "def cost(x):\n",
    "    return  x ** x + 5 * np.sin(x)"
   ]
  },
  {
   "cell_type": "code",
   "execution_count": 3,
   "id": "moral-hartford",
   "metadata": {},
   "outputs": [],
   "source": [
    "X0 = -4"
   ]
  },
  {
   "cell_type": "code",
   "execution_count": 4,
   "id": "bottom-conflict",
   "metadata": {},
   "outputs": [
    {
     "data": {
      "text/plain": [
       "<Figure size 432x288 with 0 Axes>"
      ]
     },
     "metadata": {},
     "output_type": "display_data"
    }
   ],
   "source": [
    "X0 = -4\n",
    "Y0 = cost(-4)\n",
    "\n",
    "def animate(i):\n",
    "    global X0, Y0\n",
    "    X1 = X0 - 0.3 * grad(X0)\n",
    "    Y1 = cost(X1)\n",
    "\n",
    "    plt.cla()\n",
    "    plt.plot(x,y,'green')\n",
    "    plt.plot([X0, X1], [Y0, Y1], '-')\n",
    "\n",
    "    plt.plot([X0], [Y0], 'bo')\n",
    "    plt.plot([X1], [Y1], 'ro')\n",
    "\n",
    "    X0 = X1\n",
    "    Y0 = Y1\n",
    "\n",
    "ani = FuncAnimation(plt.gcf(),animate, interval = 500)\n",
    "\n",
    "plt.tight_layout()\n",
    "plt.show()"
   ]
  }
 ],
 "metadata": {
  "kernelspec": {
   "display_name": "Python 3",
   "language": "python",
   "name": "python3"
  },
  "language_info": {
   "codemirror_mode": {
    "name": "ipython",
    "version": 3
   },
   "file_extension": ".py",
   "mimetype": "text/x-python",
   "name": "python",
   "nbconvert_exporter": "python",
   "pygments_lexer": "ipython3",
   "version": "3.9.1"
  }
 },
 "nbformat": 4,
 "nbformat_minor": 5
}
